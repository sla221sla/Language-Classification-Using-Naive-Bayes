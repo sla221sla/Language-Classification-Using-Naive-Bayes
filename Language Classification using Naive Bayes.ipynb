{
 "cells": [
  {
   "cell_type": "code",
   "execution_count": 1,
   "metadata": {},
   "outputs": [
    {
     "name": "stderr",
     "output_type": "stream",
     "text": [
      "\n",
      "Bad key \"text.kerning_factor\" on line 4 in\n",
      "C:\\Users\\DELL\\Anaconda3\\lib\\site-packages\\matplotlib\\mpl-data\\stylelib\\_classic_test_patch.mplstyle.\n",
      "You probably need to get an updated matplotlibrc file from\n",
      "https://github.com/matplotlib/matplotlib/blob/v3.1.3/matplotlibrc.template\n",
      "or from the matplotlib source distribution\n"
     ]
    }
   ],
   "source": [
    "import matplotlib.pyplot as plt\n",
    "%matplotlib inline\n",
    "plt.style.use('ggplot')\n",
    "import numpy as np\n",
    "import string\n",
    "from collections import defaultdict\n",
    "from sklearn.metrics import f1_score\n",
    "from sklearn.naive_bayes import MultinomialNB\n",
    "from sklearn.feature_extraction.text import CountVectorizer\n",
    "from sklearn.metrics import confusion_matrix\n",
    "import joblib\n",
    "import pickle as pkl\n",
    "import pandas as pd"
   ]
  },
  {
   "cell_type": "markdown",
   "metadata": {},
   "source": [
    "# 1. Exploratory Data Analysis and Visualization"
   ]
  },
  {
   "cell_type": "code",
   "execution_count": 2,
   "metadata": {},
   "outputs": [],
   "source": [
    "def open_file(filename):\n",
    "    with open(filename, 'r', encoding = 'utf8') as f:\n",
    "        data = f.readlines()\n",
    "    return data"
   ]
  },
  {
   "cell_type": "code",
   "execution_count": 3,
   "metadata": {},
   "outputs": [],
   "source": [
    "data_raw = dict()\n",
    "data_raw['sk'] = open_file('train_sentences.sk')\n",
    "data_raw['cs'] = open_file('train_sentences.cs')\n",
    "data_raw['en'] = open_file('train_sentences.en')"
   ]
  },
  {
   "cell_type": "code",
   "execution_count": 4,
   "metadata": {},
   "outputs": [],
   "source": [
    "def show_statistics(data):\n",
    "    for language, sentences in data.items():\n",
    "        num_sentences = len(sentences)\n",
    "        word_list = ' '.join(sentences).split()\n",
    "        num_words = len(word_list)\n",
    "        num_unique_words = len(set(word_list))\n",
    "        sample = sentences[0]\n",
    "        \n",
    "        print(f'Language : {language}')\n",
    "        print(f'Number of sentences : {num_sentences}')\n",
    "        print(f'Number of words : {num_words}')\n",
    "        print(f'Number of unique words : {num_unique_words}')\n",
    "        print(f'Sample Extract : {sample}')\n",
    "        print()\n",
    "        "
   ]
  },
  {
   "cell_type": "code",
   "execution_count": 5,
   "metadata": {},
   "outputs": [
    {
     "name": "stdout",
     "output_type": "stream",
     "text": [
      "Language : sk\n",
      "Number of sentences : 100\n",
      "Number of words : 2016\n",
      "Number of unique words : 1322\n",
      "Sample Extract : Pán de Grandes Pascual jasne vysvetlil, aká je pridaná hodnota definície terorizmu, vyjadrením, že definícia, ktorú sme používali predtým, bola dôležitejšia, ale aj tým, že trval na zozname priestupkov.\n",
      "\n",
      "\n",
      "Language : cs\n",
      "Number of sentences : 10\n",
      "Number of words : 158\n",
      "Number of unique words : 141\n",
      "Sample Extract : Upozorňujeme, že jejím cílem je šetřit penězi za administrativní výdaje.\n",
      "\n",
      "\n",
      "Language : en\n",
      "Number of sentences : 100\n",
      "Number of words : 2381\n",
      "Number of unique words : 1037\n",
      "Sample Extract : I can understand your approach a little bit.\n",
      "\n",
      "\n"
     ]
    }
   ],
   "source": [
    "show_statistics(data_raw)"
   ]
  },
  {
   "cell_type": "code",
   "execution_count": 6,
   "metadata": {},
   "outputs": [],
   "source": [
    "def do_law_of_zipf(data):\n",
    "    '''\n",
    "    Convert a dictionary (keys are language, and values are lists of sentences)\n",
    "    into separate Pandas DataFrames for each language, and plots log scales of\n",
    "    Ranks vs Frequencies, to visualize Zipf's Law.\n",
    "    \n",
    "    '''\n",
    "    languages = list(data.keys())\n",
    "    \n",
    "    words_df_dict = dict()\n",
    "    \n",
    "    for language in languages:\n",
    "        words_df_dict[language] = pd.DataFrame()\n",
    "\n",
    "        words = []\n",
    "        for sentence in data[language]:\n",
    "            words.extend(sentence.split())\n",
    "\n",
    "        words_df_dict[language]['word'] = words\n",
    "    '''\n",
    "    The value_counts() function is used to get a Series containing counts of unique values. \n",
    "    The resulting object will be in descending order so that the first element is the most \n",
    "    frequently-occurring element.\n",
    "    '''\n",
    "    for language in languages:\n",
    "        freqs = words_df_dict[language]['word'].value_counts().values\n",
    "        ranks = range(1, len(freqs)+1)\n",
    "        plt.plot(freqs, ranks, label=language)\n",
    "\n",
    "    plt.ylabel('Frequency')\n",
    "    plt.xlabel('Rank')\n",
    "    plt.yscale('log')\n",
    "    plt.xscale('log')\n",
    "\n",
    "    plt.title('Zipf\\'s Law')\n",
    "    plt.legend()"
   ]
  },
  {
   "cell_type": "code",
   "execution_count": 7,
   "metadata": {},
   "outputs": [
    {
     "data": {
      "image/png": "[encoded data removed]",
      "text/plain": [
       "<Figure size 432x288 with 1 Axes>"
      ]
     },
     "metadata": {},
     "output_type": "display_data"
    }
   ],
   "source": [
    "do_law_of_zipf(data_raw)"
   ]
  },
  {
   "cell_type": "markdown",
   "metadata": {},
   "source": [
    "# 2. Data Cleaning and Preprocessing"
   ]
  },
  {
   "cell_type": "code",
   "execution_count": 8,
   "metadata": {},
   "outputs": [],
   "source": [
    "def preprocess(text):\n",
    "    '''\n",
    "    Removes punctuation and digits from a string, and converts all characters to lowercase.\n",
    "    Also clears all \\n and hyphens\n",
    "    \n",
    "    Syntax : maketrans(str1, str2, str3)\n",
    "    Parameters :\n",
    "    str1 : Specifies the list of characters that need to be replaced.\n",
    "    str2 : Specifies the list of characters with which the characters need to be replaced.\n",
    "    str3 : Specifies the list of characters that needs to be deleted.\n",
    "    Returns : Returns the translation table which specifies the conversions that can be used by translate()\n",
    "    \n",
    "    Syntax : translate(table, delstr)\n",
    "    Parameters :\n",
    "    table : Translate mapping specified to perform translations.\n",
    "    delstr : The delete string can be specified as optional argument is not mentioned in table.\n",
    "    Returns : Returns the argument string after performing the translations using the translation table.\n",
    "    '''\n",
    "    preprocessed_text = text.lower().replace('-', ' ')\n",
    "    translation_table = str.maketrans('\\n', ' ', string.punctuation+string.digits)\n",
    "    preprocessed_text = preprocessed_text.translate(translation_table)\n",
    "    \n",
    "    return preprocessed_text"
   ]
  },
  {
   "cell_type": "code",
   "execution_count": 9,
   "metadata": {},
   "outputs": [],
   "source": [
    "data_preprocessed = {k: [preprocess(sentence) for sentence in v] for k, v in data_raw.items()}"
   ]
  },
  {
   "cell_type": "code",
   "execution_count": 10,
   "metadata": {
    "scrolled": true
   },
   "outputs": [
    {
     "data": {
      "text/plain": [
       "['upozorňujeme že jejím cílem je šetřit penězi za administrativní výdaje ',\n",
       " 'zcela otevřeně přiznám že ne vždy rozumím extrémně složitým vědeckým analýzám které dostávám ',\n",
       " 'při práci na této zprávě bylo třeba abych pracovala právě s touto představivostí ',\n",
       " 'a nakonec plně podporuji myšlenku sjednotit vědeckovýzkumný sektor v energetické oblasti jakožto klíčový prvek dané dlouhodobé politiky ',\n",
       " 'to je vážná věc ',\n",
       " 'z tohoto hlediska zcela souhlasím s připomínkami pana verheugena ',\n",
       " 'rozprava je ukončena ',\n",
       " 'vzhledem k významu které má stavebnictví pro evropské hospodářství je nutné odstranit technické překážky bránící obchodu se stavebními výrobky v zájmu zlepšení jejich volného pohybu na vnitřním trhu ',\n",
       " 'v roce  je to popáté kdy byly z tohoto fondu uvolněny prostředky přičemž byla využita celková částka  milionů eur z plánované výše  milionů eur ',\n",
       " 've svém vystoupení bych chtěla ocenit návrhy paní zpravodajky anny záborské které doporučují uznat vedle tradiční oficiální výdělečné činnosti i mnohé formy činnosti nevýdělečné která se v rámci solidarity mezi generacemi vykonává v rodinách ']"
      ]
     },
     "execution_count": 10,
     "metadata": {},
     "output_type": "execute_result"
    }
   ],
   "source": [
    "data_preprocessed['cs']"
   ]
  },
  {
   "cell_type": "code",
   "execution_count": 11,
   "metadata": {},
   "outputs": [
    {
     "name": "stdout",
     "output_type": "stream",
     "text": [
      "Language : sk\n",
      "Number of sentences : 100\n",
      "Number of words : 1996\n",
      "Number of unique words : 1207\n",
      "Sample Extract : pán de grandes pascual jasne vysvetlil aká je pridaná hodnota definície terorizmu vyjadrením že definícia ktorú sme používali predtým bola dôležitejšia ale aj tým že trval na zozname priestupkov \n",
      "\n",
      "Language : cs\n",
      "Number of sentences : 10\n",
      "Number of words : 155\n",
      "Number of unique words : 133\n",
      "Sample Extract : upozorňujeme že jejím cílem je šetřit penězi za administrativní výdaje \n",
      "\n",
      "Language : en\n",
      "Number of sentences : 100\n",
      "Number of words : 2366\n",
      "Number of unique words : 904\n",
      "Sample Extract : i can understand your approach a little bit \n",
      "\n"
     ]
    }
   ],
   "source": [
    "show_statistics(data_preprocessed)"
   ]
  },
  {
   "cell_type": "markdown",
   "metadata": {},
   "source": [
    "# 3. Base Naive Bayes Model"
   ]
  },
  {
   "cell_type": "code",
   "execution_count": 12,
   "metadata": {},
   "outputs": [],
   "source": [
    "sentences_train, y_train = [], []\n",
    "\n",
    "for k, v in data_preprocessed.items():\n",
    "    for sentence in v:\n",
    "        sentences_train.append(sentence)\n",
    "        y_train.append(k)"
   ]
  },
  {
   "cell_type": "code",
   "execution_count": 13,
   "metadata": {},
   "outputs": [],
   "source": [
    "vectorizer = CountVectorizer()"
   ]
  },
  {
   "cell_type": "code",
   "execution_count": 14,
   "metadata": {},
   "outputs": [],
   "source": [
    "X_train = vectorizer.fit_transform(sentences_train)"
   ]
  },
  {
   "cell_type": "code",
   "execution_count": 15,
   "metadata": {},
   "outputs": [
    {
     "data": {
      "text/plain": [
       "<210x2208 sparse matrix of type '<class 'numpy.int64'>'\n",
       "\twith 3867 stored elements in Compressed Sparse Row format>"
      ]
     },
     "execution_count": 15,
     "metadata": {},
     "output_type": "execute_result"
    }
   ],
   "source": [
    "X_train"
   ]
  },
  {
   "cell_type": "code",
   "execution_count": 16,
   "metadata": {},
   "outputs": [
    {
     "data": {
      "text/plain": [
       "MultinomialNB(alpha=1.0, class_prior=None, fit_prior=True)"
      ]
     },
     "execution_count": 16,
     "metadata": {},
     "output_type": "execute_result"
    }
   ],
   "source": [
    "naive_classifier1 = MultinomialNB()\n",
    "naive_classifier1.fit(X_train, y_train)"
   ]
  },
  {
   "cell_type": "code",
   "execution_count": 17,
   "metadata": {},
   "outputs": [],
   "source": [
    "data_val = dict()\n",
    "data_val['sk'] = open_file('val_sentences.sk')\n",
    "data_val['cs'] = open_file('val_sentences.cs')\n",
    "data_val['en'] = open_file('val_sentences.en')"
   ]
  },
  {
   "cell_type": "code",
   "execution_count": 18,
   "metadata": {},
   "outputs": [],
   "source": [
    "data_val_preprocessed = {k: [preprocess(sentence) for sentence in v] for k, v in data_val.items()}"
   ]
  },
  {
   "cell_type": "code",
   "execution_count": 19,
   "metadata": {},
   "outputs": [],
   "source": [
    "sentences_val, y_val = [], []\n",
    "\n",
    "for k, v in data_val_preprocessed.items():\n",
    "    for sentence in v:\n",
    "        sentences_val.append(sentence)\n",
    "        y_val.append(k)"
   ]
  },
  {
   "cell_type": "code",
   "execution_count": 20,
   "metadata": {},
   "outputs": [],
   "source": [
    "X_val = vectorizer.transform(sentences_val)\n",
    "predictions1 = naive_classifier1.predict(X_val)"
   ]
  },
  {
   "cell_type": "code",
   "execution_count": 21,
   "metadata": {},
   "outputs": [],
   "source": [
    "def plot_confusion_matrix(y_true, y_pred, classes,\n",
    "                          normalize=False,\n",
    "                          title=None,\n",
    "                          cmap=plt.cm.Blues):\n",
    "    \"\"\"\n",
    "    This function prints and plots the confusion matrix.\n",
    "    Normalization can be applied by setting `normalize=True`.\n",
    "    \"\"\"\n",
    " \n",
    "    title = 'Confusion Matrix'\n",
    "\n",
    "    # Compute confusion matrix\n",
    "    cm = confusion_matrix(y_true, y_pred, labels=classes)\n",
    "\n",
    "    fig, ax = plt.subplots(figsize=(5,5))\n",
    "    im = ax.imshow(cm, interpolation='nearest', cmap=cmap)\n",
    "    # ax.figure.colorbar(im, ax=ax)\n",
    "    ax.figure.colorbar(im, ax=ax, fraction=0.046, pad=0.04)\n",
    "    # We want to show all ticks...\n",
    "    ax.set(xticks=np.arange(cm.shape[1]),\n",
    "           yticks=np.arange(cm.shape[0]),\n",
    "           # ... and label them with the respective list entries\n",
    "           xticklabels=classes, yticklabels=classes,\n",
    "           title=title,\n",
    "           ylabel='True label',\n",
    "           xlabel='Predicted label')\n",
    "\n",
    "    # Rotate the tick labels and set their alignment.\n",
    "    plt.setp(ax.get_xticklabels(), rotation=0)\n",
    "\n",
    "    # Loop over data dimensions and create text annotations.\n",
    "    fmt = '.2f' if normalize else 'd'\n",
    "    thresh = cm.max() / 2.\n",
    "    for i in range(cm.shape[0]):\n",
    "        for j in range(cm.shape[1]):\n",
    "            ax.text(j, i, format(cm[i, j], fmt),\n",
    "                    ha=\"center\", va=\"center\",\n",
    "                    color=\"white\" if cm[i, j] > thresh else \"black\")\n",
    "    fig.tight_layout()\n",
    "    \n",
    "    plt.grid(b=None)"
   ]
  },
  {
   "cell_type": "code",
   "execution_count": 22,
   "metadata": {},
   "outputs": [
    {
     "data": {
      "image/png": "[encoded data removed]",
      "text/plain": [
       "<Figure size 360x360 with 2 Axes>"
      ]
     },
     "metadata": {},
     "output_type": "display_data"
    }
   ],
   "source": [
    "plot_confusion_matrix(y_val, predictions1, ['sk', 'cs', 'en'])"
   ]
  },
  {
   "cell_type": "code",
   "execution_count": 23,
   "metadata": {},
   "outputs": [
    {
     "data": {
      "text/plain": [
       "0.6149824401040264"
      ]
     },
     "execution_count": 23,
     "metadata": {},
     "output_type": "execute_result"
    }
   ],
   "source": [
    "f1_score(y_val, predictions1, average = 'weighted')"
   ]
  },
  {
   "cell_type": "markdown",
   "metadata": {},
   "source": [
    "# 4. Better Naive Bayes Model addressing class imbalance"
   ]
  },
  {
   "cell_type": "code",
   "execution_count": 88,
   "metadata": {},
   "outputs": [],
   "source": [
    "naive_classifier2 = MultinomialNB(alpha = 0.04, fit_prior = False) \n",
    "# fit prior as False gives each class equal probability, * p(sk) not in the calculation"
   ]
  },
  {
   "cell_type": "code",
   "execution_count": 89,
   "metadata": {},
   "outputs": [
    {
     "data": {
      "text/plain": [
       "MultinomialNB(alpha=0.04, class_prior=None, fit_prior=False)"
      ]
     },
     "execution_count": 89,
     "metadata": {},
     "output_type": "execute_result"
    }
   ],
   "source": [
    "naive_classifier2.fit(X_train, y_train)"
   ]
  },
  {
   "cell_type": "code",
   "execution_count": 90,
   "metadata": {},
   "outputs": [
    {
     "data": {
      "image/png": "[encoded data removed]",
      "text/plain": [
       "<Figure size 360x360 with 2 Axes>"
      ]
     },
     "metadata": {},
     "output_type": "display_data"
    }
   ],
   "source": [
    "predictions2 = naive_classifier2.predict(X_val)\n",
    "plot_confusion_matrix(y_val, predictions2, ['sk', 'cs', 'en'])"
   ]
  },
  {
   "cell_type": "code",
   "execution_count": 91,
   "metadata": {},
   "outputs": [
    {
     "data": {
      "text/plain": [
       "0.8175896898193542"
      ]
     },
     "execution_count": 91,
     "metadata": {},
     "output_type": "execute_result"
    }
   ],
   "source": [
    "f1_score(y_val, predictions2, average = 'weighted')"
   ]
  },
  {
   "cell_type": "markdown",
   "metadata": {},
   "source": [
    "# 5. Better Naive Bayes Model using Subwords"
   ]
  },
  {
   "cell_type": "code",
   "execution_count": 28,
   "metadata": {},
   "outputs": [],
   "source": [
    "# taken from https://arxiv.org/abs/1508.07909\n",
    "\n",
    "import re, collections\n",
    "def get_stats(vocab):\n",
    "    \"\"\"\n",
    "    Subwords used in Natural Language Translation where we try and translate parts of words, when we have not seen new words\n",
    "    \"\"\"\n",
    "    pairs = collections.defaultdict(int) \n",
    "    for word, freq in vocab.items():\n",
    "        symbols = word.split()\n",
    "        for i in range(len(symbols)-1):\n",
    "            pairs[symbols[i],symbols[i+1]] += freq \n",
    "    return pairs\n",
    "\n",
    "def merge_vocab(pair, v_in):\n",
    "    v_out = {}\n",
    "    bigram = re.escape(' '.join(pair))\n",
    "    p = re.compile(r'(?<!\\S)' + bigram + r'(?!\\S)')\n",
    "    for word in v_in:\n",
    "        w_out = p.sub(''.join(pair), word)\n",
    "        v_out[w_out] = v_in[word] \n",
    "    return v_out"
   ]
  },
  {
   "cell_type": "code",
   "execution_count": 29,
   "metadata": {},
   "outputs": [],
   "source": [
    "def get_vocab(data):\n",
    "    \"\"\"\n",
    "    vocab dictionary of words and how often they occur in the dataset\n",
    "    \"\"\"\n",
    "\n",
    "    words = []\n",
    "    for sentence in data:\n",
    "        words.extend(sentence.split())\n",
    "        \n",
    "    vocab = defaultdict(int)\n",
    "    for word in words:\n",
    "        vocab[' '.join(word)] += 1\n",
    "        \n",
    "    return vocab"
   ]
  },
  {
   "cell_type": "code",
   "execution_count": 30,
   "metadata": {},
   "outputs": [],
   "source": [
    "vocab = get_vocab(sentences_train)"
   ]
  },
  {
   "cell_type": "code",
   "execution_count": 31,
   "metadata": {},
   "outputs": [],
   "source": [
    "# also taken from original paper, iteratively improves vocab, #iterations can also be considered a hyperparameter\n",
    "for i in range(1000):\n",
    "    pairs = get_stats(vocab)\n",
    "    best = max(pairs, key=pairs.get) \n",
    "    vocab = merge_vocab(best, vocab)"
   ]
  },
  {
   "cell_type": "code",
   "execution_count": 32,
   "metadata": {},
   "outputs": [],
   "source": [
    "#merges are subwords we want to create from our dataset, creates a dict of subwords and how often they occur in the dataset\n",
    "merges = defaultdict(int)\n",
    "for k, v in vocab.items():\n",
    "    for subword in k.split():\n",
    "        if len(subword) >= 2:\n",
    "            merges[subword] += v"
   ]
  },
  {
   "cell_type": "code",
   "execution_count": 33,
   "metadata": {},
   "outputs": [],
   "source": [
    "merge_ordered = sorted(merges, key=merges.get, reverse=True)"
   ]
  },
  {
   "cell_type": "code",
   "execution_count": 34,
   "metadata": {},
   "outputs": [],
   "source": [
    "pkl.dump(merge_ordered, open('merge_ordered.pkl', 'wb'))"
   ]
  },
  {
   "cell_type": "code",
   "execution_count": 35,
   "metadata": {},
   "outputs": [],
   "source": [
    "def split_into_subwords(text):\n",
    "    \"\"\"\n",
    "    Takes a sentence applies and returns subwords\n",
    "    \"\"\"\n",
    "    merges = pkl.load(open('merge_ordered.pkl', 'rb'))\n",
    "    subwords = []\n",
    "    for word in text.split():\n",
    "        for subword in merges:\n",
    "            subword_count = word.count(subword)\n",
    "            if subword_count > 0:\n",
    "                word = word.replace(subword, ' ')\n",
    "                subwords.extend([subword]*subword_count)\n",
    "    return ' '.join(subwords)"
   ]
  },
  {
   "cell_type": "code",
   "execution_count": 36,
   "metadata": {},
   "outputs": [],
   "source": [
    "data_preprocessed_subwords = {k: [split_into_subwords(sentence) for sentence in v] for k, v in data_preprocessed.items()}"
   ]
  },
  {
   "cell_type": "code",
   "execution_count": 37,
   "metadata": {},
   "outputs": [
    {
     "name": "stdout",
     "output_type": "stream",
     "text": [
      "Language : sk\n",
      "Number of sentences : 100\n",
      "Number of words : 4430\n",
      "Number of unique words : 211\n",
      "Sample Extract : pán de and es al as cu ne as vy li ve ak je an ri od not in de ie er or mu re vy ím ad že in de ia to me al po ív už ed pr ým la bo it le ia ej dô al aj ým že al tr na na me zo st ie ov pr up\n",
      "\n",
      "Language : cs\n",
      "Number of sentences : 10\n",
      "Number of words : 339\n",
      "Number of unique words : 117\n",
      "Sample Extract : po je me or že je ím le cí je it et en zi za in is at ní ad tr je vý da\n",
      "\n",
      "Language : en\n",
      "Number of sentences : 100\n",
      "Number of words : 4477\n",
      "Number of unique words : 167\n",
      "Sample Extract : an and st de un ou ch ro ap it le it\n",
      "\n"
     ]
    }
   ],
   "source": [
    "show_statistics(data_preprocessed_subwords)"
   ]
  },
  {
   "cell_type": "markdown",
   "metadata": {},
   "source": [
    "We can see that we have evened out the number of unique words for all languages"
   ]
  },
  {
   "cell_type": "code",
   "execution_count": 38,
   "metadata": {},
   "outputs": [],
   "source": [
    "data_train_subwords = []\n",
    "for sentence in sentences_train:\n",
    "    data_train_subwords.append(split_into_subwords(sentence))"
   ]
  },
  {
   "cell_type": "code",
   "execution_count": 39,
   "metadata": {},
   "outputs": [],
   "source": [
    "data_val_subwords = []\n",
    "for sentence in sentences_val:\n",
    "    data_val_subwords.append(split_into_subwords(sentence))"
   ]
  },
  {
   "cell_type": "code",
   "execution_count": 40,
   "metadata": {},
   "outputs": [],
   "source": [
    "vectorizer2 = CountVectorizer()"
   ]
  },
  {
   "cell_type": "code",
   "execution_count": 41,
   "metadata": {},
   "outputs": [],
   "source": [
    "X_train = vectorizer2.fit_transform(data_train_subwords)\n",
    "X_val = vectorizer2.transform(data_val_subwords)"
   ]
  },
  {
   "cell_type": "code",
   "execution_count": 78,
   "metadata": {},
   "outputs": [
    {
     "data": {
      "text/plain": [
       "MultinomialNB(alpha=0.35, class_prior=None, fit_prior=False)"
      ]
     },
     "execution_count": 78,
     "metadata": {},
     "output_type": "execute_result"
    }
   ],
   "source": [
    "naive_classifier3 = MultinomialNB(alpha = 0.35, fit_prior = False) \n",
    "naive_classifier3.fit(X_train, y_train)"
   ]
  },
  {
   "cell_type": "code",
   "execution_count": 79,
   "metadata": {},
   "outputs": [
    {
     "data": {
      "image/png": "[encoded data removed]",
      "text/plain": [
       "<Figure size 360x360 with 2 Axes>"
      ]
     },
     "metadata": {},
     "output_type": "display_data"
    }
   ],
   "source": [
    "predictions3 = naive_classifier3.predict(X_val)\n",
    "plot_confusion_matrix(y_val, predictions3, ['sk', 'cs', 'en'])"
   ]
  },
  {
   "cell_type": "code",
   "execution_count": 80,
   "metadata": {},
   "outputs": [
    {
     "data": {
      "text/plain": [
       "0.887570747741248"
      ]
     },
     "execution_count": 80,
     "metadata": {},
     "output_type": "execute_result"
    }
   ],
   "source": [
    "f1_score(y_val, predictions3, average = 'weighted')"
   ]
  },
  {
   "cell_type": "code",
   "execution_count": 94,
   "metadata": {},
   "outputs": [
    {
     "data": {
      "text/plain": [
       "['final-model.joblib']"
      ]
     },
     "execution_count": 94,
     "metadata": {},
     "output_type": "execute_result"
    }
   ],
   "source": [
    "joblib.dump(naive_classifier3, 'final-model.joblib')\n",
    "joblib.dump(vectorizer, 'final-model.joblib')"
   ]
  },
  {
   "cell_type": "code",
   "execution_count": null,
   "metadata": {},
   "outputs": [],
   "source": []
  }
 ],
 "metadata": {
  "kernelspec": {
   "display_name": "Python 3",
   "language": "python",
   "name": "python3"
  },
  "language_info": {
   "codemirror_mode": {
    "name": "ipython",
    "version": 3
   },
   "file_extension": ".py",
   "mimetype": "text/x-python",
   "name": "python",
   "nbconvert_exporter": "python",
   "pygments_lexer": "ipython3",
   "version": "3.7.7"
  }
 },
 "nbformat": 4,
 "nbformat_minor": 4
}
